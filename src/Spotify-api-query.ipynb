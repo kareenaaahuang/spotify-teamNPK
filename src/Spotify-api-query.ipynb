{
 "cells": [
  {
   "cell_type": "code",
   "execution_count": 1,
   "metadata": {},
   "outputs": [],
   "source": [
    "import numpy as np\n",
    "import pandas as pd\n",
    "import pickle\n",
    "import time"
   ]
  },
  {
   "cell_type": "code",
   "execution_count": 2,
   "metadata": {},
   "outputs": [],
   "source": [
    "import spotipy\n",
    "from spotipy.oauth2 import SpotifyClientCredentials\n",
    "\n",
    "client_credentials_manager = SpotifyClientCredentials(client_id='***',\n",
    "                                                      client_secret='***')\n",
    "sp = spotipy.Spotify(client_credentials_manager=client_credentials_manager)"
   ]
  },
  {
   "cell_type": "code",
   "execution_count": 2,
   "metadata": {},
   "outputs": [],
   "source": [
    "track_uri_toquery = pd.read_csv(\"track_api_query.csv\")"
   ]
  },
  {
   "cell_type": "code",
   "execution_count": 3,
   "metadata": {},
   "outputs": [],
   "source": [
    "list_to_query = list(track_uri_toquery['Track_uri'])"
   ]
  },
  {
   "cell_type": "code",
   "execution_count": 4,
   "metadata": {},
   "outputs": [
    {
     "data": {
      "text/plain": [
       "2185790"
      ]
     },
     "execution_count": 4,
     "metadata": {},
     "output_type": "execute_result"
    }
   ],
   "source": [
    "unique_tracks = list(set(list_to_query))\n",
    "len(unique_tracks)"
   ]
  },
  {
   "cell_type": "code",
   "execution_count": null,
   "metadata": {
    "scrolled": true
   },
   "outputs": [
    {
     "name": "stdout",
     "output_type": "stream",
     "text": [
      "0\n",
      "50\n",
      "100\n",
      "150\n",
      "200\n",
      "250\n",
      "300\n",
      "350\n",
      "400\n",
      "450\n",
      "500\n",
      "550\n",
      "600\n",
      "650\n",
      "700\n",
      "750\n",
      "800\n",
      "850\n",
      "900\n",
      "950\n",
      "1000\n",
      "1050\n",
      "1100\n",
      "1150\n",
      "1200\n",
      "1250\n",
      "1300\n",
      "1350\n",
      "1400\n",
      "1450\n",
      "1500\n",
      "1550\n",
      "1600\n",
      "1650\n",
      "1700\n",
      "1750\n",
      "1800\n",
      "1850\n",
      "1900\n",
      "1950\n",
      "2000\n",
      "2050\n",
      "2100\n",
      "2150\n",
      "2200\n",
      "2250\n",
      "2300\n",
      "2350\n",
      "2400\n",
      "2450\n",
      "2500\n",
      "2550\n",
      "2600\n",
      "2650\n",
      "2700\n",
      "2750\n",
      "2800\n",
      "2850\n",
      "2900\n",
      "2950\n",
      "3000\n",
      "3050\n",
      "3100\n",
      "3150\n",
      "3200\n",
      "3250\n",
      "3300\n",
      "3350\n",
      "3400\n",
      "3450\n",
      "3500\n",
      "3550\n",
      "3600\n",
      "3650\n",
      "3700\n",
      "3750\n",
      "3800\n",
      "3850\n",
      "3900\n",
      "3950\n",
      "4000\n",
      "4050\n",
      "4100\n",
      "4150\n",
      "4200\n",
      "4250\n",
      "4300\n",
      "4350\n",
      "4400\n",
      "4450\n",
      "4500\n"
     ]
    }
   ],
   "source": [
    "start = 0\n",
    "end = len(list_to_query)\n",
    "for i in range(start, end, 50):\n",
    "    print(i)\n",
    "    temp_list = list_to_query[i:i+50]\n",
    "    playlists = sp.audio_features(temp_list)\n",
    "\n",
    "    # read in existing file\n",
    "#     with open ('audio_features.txt', 'rb') as fp:\n",
    "#         itemlist = pickle.load(fp)\n",
    "    if \"itemlist\" in locals():\n",
    "        itemlist = itemlist + playlists # append new datat\n",
    "    else:\n",
    "        itemlist = playlists\n",
    "\n",
    "    \n",
    "    if len(itemlist) == 600: # save partial data into 600 chunks in case of error\n",
    "        temp_filename = \"audio_features\" + str(i) + \".txt\" \n",
    "\n",
    "        with open(temp_filename,\"wb\") as fp: # write updated new data\n",
    "            pickle.dump(itemlist, fp)\n",
    "            del itemlist\n",
    "    time.sleep(np.random.randint(2,5))\n",
    "    "
   ]
  },
  {
   "cell_type": "code",
   "execution_count": null,
   "metadata": {},
   "outputs": [],
   "source": [
    "with open ('audio_features.txt', 'rb') as fp:\n",
    "    itemlist = pickle.load(fp)"
   ]
  },
  {
   "cell_type": "markdown",
   "metadata": {},
   "source": [
    "## Artist"
   ]
  },
  {
   "cell_type": "code",
   "execution_count": 3,
   "metadata": {},
   "outputs": [],
   "source": [
    "import sqlite3\n",
    "import csv\n",
    "import pandas as pd\n",
    "import numpy as np\n",
    "\n",
    "# sqlite3.register_adapter(np.int64, lambda val: int(val))\n",
    "# sqlite3.register_adapter(np.int32, lambda val: int(val))\n",
    "\n",
    "def viz_tables(cols, query):\n",
    "    q = cursor.execute(query).fetchall()\n",
    "    framelist = dict()\n",
    "    for i, col_name in enumerate(cols):\n",
    "        framelist[col_name] = [col[i] for col in q]\n",
    "    return pd.DataFrame.from_dict(framelist)\n",
    "\n",
    "db = sqlite3.connect('../raw_data/spotify.db')\n",
    "cursor = db.cursor()\n",
    "\n",
    "\n",
    "# track_meta_cols = [col[1] for col in cursor.execute(\"PRAGMA table_info(track_meta)\")]\n",
    "query = '''SELECT DISTINCT Artist_uri FROM track'''\n",
    "artists = cursor.execute(query).fetchall()\n",
    "\n",
    "# q_100 = [x[0] for x in q_100]"
   ]
  },
  {
   "cell_type": "code",
   "execution_count": 4,
   "metadata": {},
   "outputs": [
    {
     "data": {
      "text/plain": [
       "295860"
      ]
     },
     "execution_count": 4,
     "metadata": {},
     "output_type": "execute_result"
    }
   ],
   "source": [
    "len(artists)"
   ]
  },
  {
   "cell_type": "code",
   "execution_count": 6,
   "metadata": {},
   "outputs": [],
   "source": [
    "artists_all = [x[0] for x in artists]"
   ]
  },
  {
   "cell_type": "code",
   "execution_count": 7,
   "metadata": {},
   "outputs": [
    {
     "data": {
      "text/plain": [
       "['spotify:artist:74ASZWbe4lXaubB36ztrGX',\n",
       " 'spotify:artist:7emRV8AluG3d4e5T0DZiK9',\n",
       " 'spotify:artist:16oZKvXb6WkQlVAjwo2Wbg',\n",
       " 'spotify:artist:3nFkdlSjzX9mRTtwJOzDYB',\n",
       " 'spotify:artist:4V8Sr092TqfHkfAA5fXXqG']"
      ]
     },
     "execution_count": 7,
     "metadata": {},
     "output_type": "execute_result"
    }
   ],
   "source": [
    "artists_all[:5]"
   ]
  },
  {
   "cell_type": "code",
   "execution_count": 22,
   "metadata": {},
   "outputs": [
    {
     "name": "stdout",
     "output_type": "stream",
     "text": [
      "0\n",
      "50\n"
     ]
    }
   ],
   "source": [
    "start = 0\n",
    "end = 100 #len(artists_all)\n",
    "for i in range(start, end, 50):\n",
    "    print(i)\n",
    "    temp_list = artists_all[i:i+50]\n",
    "    artists_info = sp.artists(temp_list)['artists']\n",
    "\n",
    "    # read in existing file\n",
    "#     with open ('audio_features.txt', 'rb') as fp:\n",
    "#         itemlist = pickle.load(fp)\n",
    "    if \"itemlist\" in locals():\n",
    "        itemlist_artists = itemlist_artists + artists_info # append new datat\n",
    "    else:\n",
    "        itemlist_artists = artists_info\n",
    "\n",
    "    \n",
    "    if len(itemlist_artists) == 600: # save partial data into 600 chunks in case of error\n",
    "        temp_filename = \"artists_info\" + str(i) + \".txt\" \n",
    "\n",
    "        with open(temp_filename,\"wb\") as fp: # write updated new data\n",
    "            pickle.dump(itemlist_artists, fp)\n",
    "            del itemlist_artists\n",
    "#     time.sleep(np.random.randint(2,5))\n",
    "    "
   ]
  },
  {
   "cell_type": "code",
   "execution_count": 21,
   "metadata": {},
   "outputs": [],
   "source": [
    "del itemlist"
   ]
  },
  {
   "cell_type": "code",
   "execution_count": 11,
   "metadata": {},
   "outputs": [],
   "source": [
    "i = 0\n",
    "temp_list = artists_all[i:i+50]\n",
    "artists_info = sp.artists(temp_list)"
   ]
  },
  {
   "cell_type": "code",
   "execution_count": 18,
   "metadata": {},
   "outputs": [
    {
     "data": {
      "text/plain": [
       "list"
      ]
     },
     "execution_count": 18,
     "metadata": {},
     "output_type": "execute_result"
    }
   ],
   "source": [
    "artists_info['artists']"
   ]
  },
  {
   "cell_type": "code",
   "execution_count": 25,
   "metadata": {},
   "outputs": [],
   "source": [
    "with open(\"artists-info_trial\",\"wb\") as fp: # write updated new data\n",
    "    pickle.dump(itemlist_artists, fp)"
   ]
  },
  {
   "cell_type": "code",
   "execution_count": 26,
   "metadata": {},
   "outputs": [],
   "source": [
    "# with open ('audio_features.txt', 'rb') as fp:\n",
    "#     itemlist = pickle.load(fp)\n",
    "    \n",
    "with open(\"artists-info_trial\",\"rb\") as fp: # write updated new data\n",
    "    trial_artists = pickle.load(fp)"
   ]
  },
  {
   "cell_type": "code",
   "execution_count": 27,
   "metadata": {},
   "outputs": [
    {
     "data": {
      "text/plain": [
       "50"
      ]
     },
     "execution_count": 27,
     "metadata": {},
     "output_type": "execute_result"
    }
   ],
   "source": [
    "len(trial_artists)"
   ]
  },
  {
   "cell_type": "code",
   "execution_count": 29,
   "metadata": {},
   "outputs": [
    {
     "data": {
      "text/plain": [
       "{'external_urls': {'spotify': 'https://open.spotify.com/artist/0NDElNqwGRCmsYIQFapp6K'},\n",
       " 'followers': {'href': None, 'total': 30479},\n",
       " 'genres': ['filter house', 'nu disco'],\n",
       " 'href': 'https://api.spotify.com/v1/artists/0NDElNqwGRCmsYIQFapp6K',\n",
       " 'id': '0NDElNqwGRCmsYIQFapp6K',\n",
       " 'images': [{'height': 640,\n",
       "   'url': 'https://i.scdn.co/image/12197dae5c2f5752da45b08f06953e2551066ebf',\n",
       "   'width': 640},\n",
       "  {'height': 320,\n",
       "   'url': 'https://i.scdn.co/image/f36ccd906331b0ec7670d9b3986f1df7b18a80e5',\n",
       "   'width': 320},\n",
       "  {'height': 160,\n",
       "   'url': 'https://i.scdn.co/image/971b050a4f1762eadcbe97df0c8d94399c551078',\n",
       "   'width': 160}],\n",
       " 'name': 'Oliver',\n",
       " 'popularity': 52,\n",
       " 'type': 'artist',\n",
       " 'uri': 'spotify:artist:0NDElNqwGRCmsYIQFapp6K'}"
      ]
     },
     "execution_count": 29,
     "metadata": {},
     "output_type": "execute_result"
    }
   ],
   "source": [
    "trial_artists[1]"
   ]
  },
  {
   "cell_type": "code",
   "execution_count": null,
   "metadata": {},
   "outputs": [],
   "source": []
  }
 ],
 "metadata": {
  "kernelspec": {
   "display_name": "Python 3",
   "language": "python",
   "name": "python3"
  },
  "language_info": {
   "codemirror_mode": {
    "name": "ipython",
    "version": 3
   },
   "file_extension": ".py",
   "mimetype": "text/x-python",
   "name": "python",
   "nbconvert_exporter": "python",
   "pygments_lexer": "ipython3",
   "version": "3.6.8"
  }
 },
 "nbformat": 4,
 "nbformat_minor": 2
}
